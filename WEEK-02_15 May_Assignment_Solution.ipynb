{
 "cells": [
  {
   "cell_type": "markdown",
   "id": "bdca5637",
   "metadata": {},
   "source": [
    "Q1. How do you comment code in Python? What are the different types of comments?"
   ]
  },
  {
   "cell_type": "markdown",
   "id": "09efc79b",
   "metadata": {},
   "source": [
    "Answer:  \n",
    "\n",
    "In Python, single-line comments can be added using the hash symbol (#). \n",
    "\n",
    "Multi-line comments can be created using triple quotes (''' or \"\"\") to enclose the comment or by using the hash symbol (#) at the beginning of each line. \n",
    "\n",
    "Comments are ignored by the Python interpreter and serve as explanations or documentation for the code."
   ]
  },
  {
   "cell_type": "code",
   "execution_count": 1,
   "id": "cb58f259",
   "metadata": {},
   "outputs": [
    {
     "data": {
      "text/plain": [
       "'\\nThis is a multi-line comment in Python\\nIt can span across multiple lines\\n'"
      ]
     },
     "execution_count": 1,
     "metadata": {},
     "output_type": "execute_result"
    }
   ],
   "source": [
    "# This is a single-line comment in Python\n",
    "\n",
    "'''\n",
    "This is a multi-line comment in Python\n",
    "It can span across multiple lines\n",
    "'''\n",
    "\n",
    "# This is a multi-line comment\n",
    "# It can also span across multiple lines\n"
   ]
  },
  {
   "cell_type": "markdown",
   "id": "9c047a23",
   "metadata": {},
   "source": [
    "Q2. What are variables in Python? How do you declare and assign values to variables?"
   ]
  },
  {
   "cell_type": "markdown",
   "id": "32d276b8",
   "metadata": {},
   "source": [
    "Variables in Python are containers used to store data.\n",
    "\n",
    "To declare and assign a value to a variable, use the syntax \"variable_name = value\". \n",
    "\n",
    "Python is dynamically typed, so you don't need to specify the variable type. \n",
    "\n",
    "You can assign different values or types to the same variable throughout your code."
   ]
  },
  {
   "cell_type": "code",
   "execution_count": 4,
   "id": "725df25e",
   "metadata": {},
   "outputs": [],
   "source": [
    "variable_name = 'value'\n",
    "x = 10\n"
   ]
  },
  {
   "cell_type": "markdown",
   "id": "1a94430f",
   "metadata": {},
   "source": [
    "Q3. How do you convert one data type to another in Python?"
   ]
  },
  {
   "cell_type": "markdown",
   "id": "9ab7f99d",
   "metadata": {},
   "source": [
    "1.Implicit conversion, which occurs automatically in certain situations.\n",
    "\n",
    "2.Explicit conversion with built-in functions like int(), float(), str(), etc.\n",
    "\n",
    "3.Built-in constructors like list(), tuple(), set(), etc., for specific data types.\n",
    "\n",
    "4.The format() method of strings for custom string formatting and conversion."
   ]
  },
  {
   "cell_type": "code",
   "execution_count": 13,
   "id": "dcc0c551",
   "metadata": {},
   "outputs": [
    {
     "name": "stdout",
     "output_type": "stream",
     "text": [
      "<class 'int'>\n",
      "<class 'str'>\n",
      "<class 'str'>\n",
      "<class 'list'>\n",
      "<class 'float'>\n",
      "<class 'str'>\n"
     ]
    }
   ],
   "source": [
    "#Explicit Conversion:\n",
    "num = 10\n",
    "print(type(num))\n",
    "num = str(num)  # Converts the integer '10' to a string '10'\n",
    "print(type(num))\n",
    "\n",
    "#Use built-in constructors:\n",
    "my_list=\"Hello\"\n",
    "print(type(my_list))\n",
    "my_list = list(\"Hello\")  # Converts the string 'Hello' to a list ['H', 'e', 'l', 'l', 'o']\n",
    "print(type(my_list))\n",
    "\n",
    "#Use the format() method:\n",
    "num = 3.1415\n",
    "print(type(num))\n",
    "str_num = \"{:.2f}\".format(num)  # Converts the float '3.1415' to a string '3.14' with 2 decimal places\n",
    "print(type(str_num))\n"
   ]
  },
  {
   "cell_type": "markdown",
   "id": "0a79ce3f",
   "metadata": {},
   "source": [
    "Q4. How do you write and execute a Python script from the command line?"
   ]
  },
  {
   "cell_type": "markdown",
   "id": "8347d58d",
   "metadata": {},
   "source": [
    "Answer:\n",
    "\n",
    "To write and execute a Python script from the command line:\n",
    "\n",
    "1.Open a text editor and write your Python code, saving it with a .py extension (e.g., script.py).\n",
    "\n",
    "2.Open a command prompt or terminal and navigate to the directory where your script is located using the cd command.\n",
    "\n",
    "3.Run the script by typing python script.py in the command prompt/terminal and press Enter.\n",
    "\n",
    "4.The Python interpreter will execute the script, and any output or results will be displayed in the command prompt/terminal.\n",
    "\n",
    "5.Review the output or results of the script that were displayed in the command prompt/terminal."
   ]
  },
  {
   "cell_type": "markdown",
   "id": "97afa5a2",
   "metadata": {},
   "source": [
    "Q5. Given a list my_list = [1, 2, 3, 4, 5], write the code to slice the list and obtain the sub-list [2, 3]."
   ]
  },
  {
   "cell_type": "code",
   "execution_count": 15,
   "id": "c43a4ed3",
   "metadata": {},
   "outputs": [
    {
     "name": "stdout",
     "output_type": "stream",
     "text": [
      "[2, 3]\n"
     ]
    }
   ],
   "source": [
    "my_list=[1,2,3,4,5]\n",
    "sub_list=my_list[1:3]\n",
    "print(sub_list)"
   ]
  },
  {
   "cell_type": "markdown",
   "id": "e38139da",
   "metadata": {},
   "source": [
    "Q6. What is a complex number in mathematics, and how is it represented in Python?"
   ]
  },
  {
   "cell_type": "markdown",
   "id": "8b48f538",
   "metadata": {},
   "source": [
    "Answer:\n",
    "\n",
    "In mathematics, a complex number is a number of the form \"a + bi,\" where \"a\" and \"b\" are real numbers, and \"i\" represents the imaginary unit.\n",
    "\n",
    "In Python, complex numbers are represented by using the \"j\" suffix for the imaginary part, such as 3 + 4j, where 3 is the real part and 4j is the imaginary part."
   ]
  },
  {
   "cell_type": "code",
   "execution_count": 17,
   "id": "62964921",
   "metadata": {},
   "outputs": [],
   "source": [
    "# Using complex() function\n",
    "z1 = complex(1, 2)  # 1 + 2i\n",
    "\n",
    "# Directly specifying real and imaginary parts\n",
    "z2 = 3 + 4j  # 3 + 4i\n"
   ]
  },
  {
   "cell_type": "markdown",
   "id": "7f5327c2",
   "metadata": {},
   "source": [
    "Q7. What is the correct way to declare a variable named age and assign the value 25 to it?"
   ]
  },
  {
   "cell_type": "code",
   "execution_count": 19,
   "id": "5c42467b",
   "metadata": {},
   "outputs": [],
   "source": [
    "#The correct way to declare a variable named \"age\" and assign the value 25 to it in Python is as follows:\n",
    "age = 25\n"
   ]
  },
  {
   "cell_type": "markdown",
   "id": "47ba7704",
   "metadata": {},
   "source": [
    "Q8. Declare a variable named price and assign the value 9.99 to it. What data type does this variable\n",
    "belong to?"
   ]
  },
  {
   "cell_type": "code",
   "execution_count": 21,
   "id": "6e9c3de1",
   "metadata": {},
   "outputs": [
    {
     "name": "stdout",
     "output_type": "stream",
     "text": [
      "9.99\n",
      "<class 'float'>\n"
     ]
    }
   ],
   "source": [
    "price = 9.99\n",
    "print(price)\n",
    "print(type(price)) # Data type is flaot\n"
   ]
  },
  {
   "cell_type": "markdown",
   "id": "6b765835",
   "metadata": {},
   "source": [
    "Q9. Create a variable named name and assign your full name to it as a string. How would you print the\n",
    "value of this variable?"
   ]
  },
  {
   "cell_type": "code",
   "execution_count": 22,
   "id": "bc5ab12b",
   "metadata": {},
   "outputs": [
    {
     "name": "stdout",
     "output_type": "stream",
     "text": [
      "Rahul Patil\n"
     ]
    }
   ],
   "source": [
    "name = \"Rahul Patil\"\n",
    "print(name)\n"
   ]
  },
  {
   "cell_type": "markdown",
   "id": "70b6a9c8",
   "metadata": {},
   "source": [
    "Q10. Given the string \"Hello, World!\", extract the substring \"World\"."
   ]
  },
  {
   "cell_type": "code",
   "execution_count": 25,
   "id": "55a7939a",
   "metadata": {},
   "outputs": [
    {
     "name": "stdout",
     "output_type": "stream",
     "text": [
      "string= Hello, World!\n",
      "substring= World\n"
     ]
    }
   ],
   "source": [
    "string = \"Hello, World!\"\n",
    "substring = string[7:12]\n",
    "print(\"string=\",string)\n",
    "print(\"substring=\",substring)\n"
   ]
  },
  {
   "cell_type": "markdown",
   "id": "1e47710d",
   "metadata": {},
   "source": [
    "Q11. Create a variable named \"is_student\" and assign it a boolean value indicating whether you are\n",
    "currently a student or not."
   ]
  },
  {
   "cell_type": "code",
   "execution_count": 26,
   "id": "069f13ea",
   "metadata": {},
   "outputs": [],
   "source": [
    "is_student = False\n"
   ]
  },
  {
   "cell_type": "code",
   "execution_count": null,
   "id": "37bd74e1",
   "metadata": {},
   "outputs": [],
   "source": []
  }
 ],
 "metadata": {
  "kernelspec": {
   "display_name": "Python 3 (ipykernel)",
   "language": "python",
   "name": "python3"
  },
  "language_info": {
   "codemirror_mode": {
    "name": "ipython",
    "version": 3
   },
   "file_extension": ".py",
   "mimetype": "text/x-python",
   "name": "python",
   "nbconvert_exporter": "python",
   "pygments_lexer": "ipython3",
   "version": "3.11.1"
  }
 },
 "nbformat": 4,
 "nbformat_minor": 5
}
